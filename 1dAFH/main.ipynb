{
 "cells": [
  {
   "cell_type": "markdown",
   "metadata": {},
   "source": [
    "# GS wavefunction and energy of 1dAFH\n",
    "Solving under PBC, assuming TRS wavefunction.\n",
    "\n",
    "Gauge transformation, \\sigma_{2n+1} -> - \\sigma_{2n+1}, leads to positive semi-definite wavefunction.\n",
    "\n",
    "Codes by Nobuyuki Yoshioka, Feb 2018."
   ]
  },
  {
   "cell_type": "markdown",
   "metadata": {},
   "source": [
    "## Load the modules"
   ]
  },
  {
   "cell_type": "code",
   "execution_count": 1,
   "metadata": {
    "collapsed": false
   },
   "outputs": [],
   "source": [
    "import numpy as np\n",
    "from RBM_1dHeisenberg import * # RBM class\n",
    "from RealSamplingTools import * # Markov chain generator class\n",
    "from VMC_1dHeisenberg import * # VMC scheme class"
   ]
  },
  {
   "cell_type": "markdown",
   "metadata": {},
   "source": [
    "## Parameters"
   ]
  },
  {
   "cell_type": "code",
   "execution_count": 2,
   "metadata": {
    "collapsed": false
   },
   "outputs": [
    {
     "name": "stdout",
     "output_type": "stream",
     "text": [
      "Lamb2 switch at iter = 918\n"
     ]
    }
   ],
   "source": [
    "# System and hidden layer size\n",
    "n_vis = 10 # system size\n",
    "alpha = 2 # ratio of #hidden to #visible\n",
    "n_batch = 100 # (#sample) for Gibbs sampling\n",
    "\n",
    "# Parameters of Hamiltonian\n",
    "J = 1 # Heisenberg interaction\n",
    "Delta = 1 # XXZ anisotropy. Isotropic if Delta = 1.\n",
    "\n",
    "\n",
    "# Learning hyperparameters\n",
    "eta0 = 3e-2 # learning rate\n",
    "power = 2\n",
    "sigma = 0.001 # amplitude of random init. param\n",
    "l2reg = 0. # L2 regularization\n",
    "\n",
    "# Learning schedule\n",
    "# lamb, lamb2 -> regularization factor of S matrix\n",
    "Initlamb = 100 \n",
    "decay = 0.98\n",
    "lambmin = 1e-2\n",
    "\n",
    "Initlamb2 = 1e-2\n",
    "decay2 = 0.995\n",
    "lamb2min = 1e-4\n",
    "print \"Lamb2 switch at iter = %d\"%(np.log(lamb2min/Initlamb2)/np.log(decay2))\n",
    "\n",
    "# Other optimization technique\n",
    "momentum = 0. # momentum\n",
    "dropout_p  = 0. # dropout-rate\n",
    "threshold = 0.3 # threshold for S-matrix.\n",
    "threshold2 = 30"
   ]
  },
  {
   "cell_type": "markdown",
   "metadata": {},
   "source": [
    "## Loading analytical expression of wave function"
   ]
  },
  {
   "cell_type": "code",
   "execution_count": 3,
   "metadata": {
    "collapsed": false
   },
   "outputs": [],
   "source": [
    "# Here, we use the Gauge-transformed Hamiltonian\n",
    "# so that wave function is positive semi definite,\n",
    "# allowing the alternate sampling from RBM.\n",
    "from plottools_1dAFH import *\n",
    "from RealWFtools import *\n",
    "from ExactWaveFunc_1dHeisenberg import GSvec\n",
    "from ExactWaveFunc_1dHeisenberg import EnPerSite_exact\n",
    "\n",
    "# Prepare the basis of the vector.\n",
    "# { |All up>, |uu...ud>, |uu...du>, ..., |All down>}\n",
    "if n_vis <= 12:\n",
    "    #Define gsvec_exact when it is undefined\n",
    "    if not any(map(lambda x:x == 'gsvec_exact', locals())):\n",
    "        gsvec_exact = GSvec(leng = n_vis, PBCflag = 1, hz = hz, hx = hx)\n",
    "        \n",
    "    # Re-calculate when n_vis is changed\n",
    "    if int(np.log2(len(gsvec_exact))) != n_vis:\n",
    "        gsvec_exact = GSvec(leng = n_vis, PBCflag = 1, hz = hz, hx = hx)\n",
    "        \n",
    "else: # But avoid if n_vis>12\n",
    "    gsvec_exact = GSvec(leng = 10, PBCflag = 1, hz = hz, hx = hx)\n",
    "\n",
    "# Calculate the exact GS energy\n",
    "if not any(map(lambda x:x == 'enpersite_exact', locals())):\n",
    "    if n_vis <= 12:\n",
    "        enpersite_exact = EnPerSite_exact(n_vis, PBCflag = 1, hz = 0, hx = 0)/(n_vis*1.0)\n",
    "    else:\n",
    "        enpersite_exact = 4 * (-np.log(2) + 0.25)\n",
    "if int(np.log2(len(gsvec_exact))) != n_vis:\n",
    "    if n_vis <= 12:\n",
    "        enpersite_exact = EnPerSite_exact(n_vis, PBCflag = 1, hz = 0, hx = 0)/(n_vis*1.0)\n",
    "    else:\n",
    "        enpersite_exact = 4 * (-np.log(2) + 0.25)"
   ]
  },
  {
   "cell_type": "code",
   "execution_count": 4,
   "metadata": {
    "collapsed": false
   },
   "outputs": [],
   "source": [
    "# Fixing the random seed\n",
    "seed = 12345\n",
    "np.random.seed(seed)\n",
    "\n",
    "# \"params\" is saved together with the result.\n",
    "params = np.array([n_vis, alpha,n_batch, J, hz, hx, Delta, eta0, sigma, l2reg, Initlamb, decay, lambmin, Initlamb2, decay2, lamb2min,\n",
    "                      momentum, dropout_p, threshold, seed, threshold2])\n",
    "param_contents = ['n_vis', 'alpha' , 'n_batch', 'J', 'hz', 'hx', 'Delta', 'eta0', 'sigma', 'l2reg', 'Initlamb', 'decay', 'lambmin', 'Initlamb2', 'decay2', 'lamb2min',\n",
    "                      'momentum', 'dropout_p', 'threshold', 'seed', 'threshold2']\n",
    "\n",
    "# Initialize vmc scheme.\n",
    "vmc = VMC(n_vis = n_vis, alpha = alpha, eta = eta0, sigma = sigma, n_batch = n_batch,  J = J,\n",
    "          l2reg = l2reg,  momentum = momentum, dropout_p = dropout_p, gsvec_exact= gsvec_exact, threshold = threshold, threshold2 = threshold2)\n",
    "vmc.SetRBM()"
   ]
  },
  {
   "cell_type": "markdown",
   "metadata": {},
   "source": [
    "# Optimizing GS energy by VMC"
   ]
  },
  {
   "cell_type": "code",
   "execution_count": 5,
   "metadata": {
    "collapsed": false,
    "scrolled": true
   },
   "outputs": [
    {
     "name": "stdout",
     "output_type": "stream",
     "text": [
      "0 th iteration.\n",
      "Eloc/site =  -1.014007246375964\n",
      "10 th iteration.\n",
      "Eloc/site =  -1.0609717842046646\n",
      "20 th iteration.\n",
      "Eloc/site =  -1.213316935913242\n",
      "30 th iteration.\n",
      "Eloc/site =  -1.3309327765902508\n",
      "40 th iteration.\n",
      "Eloc/site =  -1.3262000782774206\n",
      "50 th iteration.\n",
      "Eloc/site =  -1.4563047279928942\n",
      "60 th iteration.\n",
      "Eloc/site =  -1.4227485888063343\n",
      "70 th iteration.\n",
      "Eloc/site =  -1.464354190306975\n",
      "80 th iteration.\n",
      "Eloc/site =  -1.496335088509322\n",
      "90 th iteration.\n",
      "Eloc/site =  -1.5576224246419779\n",
      "100 th iteration.\n",
      "Eloc/site =  -1.5820620255059012\n",
      "110 th iteration.\n",
      "Eloc/site =  -1.6424972834213398\n",
      "120 th iteration.\n",
      "Eloc/site =  -1.641745386772395\n",
      "130 th iteration.\n",
      "Eloc/site =  -1.6590980304023257\n",
      "140 th iteration.\n",
      "Eloc/site =  -1.683711303050361\n",
      "150 th iteration.\n",
      "Eloc/site =  -1.6914069665252405\n",
      "160 th iteration.\n",
      "Eloc/site =  -1.6759626180784433\n",
      "170 th iteration.\n",
      "Eloc/site =  -1.7249542420675552\n",
      "180 th iteration.\n",
      "Eloc/site =  -1.7117352880574894\n",
      "190 th iteration.\n",
      "Eloc/site =  -1.7098902722185911\n",
      "200 th iteration.\n",
      "Eloc/site =  -1.7100069704635583\n",
      "210 th iteration.\n",
      "Eloc/site =  -1.718514555154875\n",
      "220 th iteration.\n",
      "Eloc/site =  -1.7361152515356637\n",
      "230 th iteration.\n",
      "Eloc/site =  -1.7367335890531272\n",
      "240 th iteration.\n",
      "Eloc/site =  -1.7390977720938803\n",
      "250 th iteration.\n",
      "Eloc/site =  -1.744569970141125\n",
      "260 th iteration.\n",
      "Eloc/site =  -1.7239436168361977\n",
      "270 th iteration.\n",
      "Eloc/site =  -1.7548021045523137\n",
      "280 th iteration.\n",
      "Eloc/site =  -1.737755800768668\n",
      "290 th iteration.\n",
      "Eloc/site =  -1.7943342765711257\n",
      "300 th iteration.\n",
      "Eloc/site =  -1.755775920314677\n",
      "310 th iteration.\n",
      "Eloc/site =  -1.7632732214721851\n",
      "320 th iteration.\n",
      "Eloc/site =  -1.7384132444517395\n",
      "330 th iteration.\n",
      "Eloc/site =  -1.7570593934872254\n",
      "340 th iteration.\n",
      "Eloc/site =  -1.7337653227869247\n",
      "350 th iteration.\n",
      "Eloc/site =  -1.7631841115333473\n",
      "360 th iteration.\n",
      "Eloc/site =  -1.7574297392672833\n",
      "370 th iteration.\n",
      "Eloc/site =  -1.8120438829322036\n",
      "380 th iteration.\n",
      "Eloc/site =  -1.7517207316308574\n",
      "390 th iteration.\n",
      "Eloc/site =  -1.7857846298653528\n",
      "400 th iteration.\n",
      "Eloc/site =  -1.7831010467775155\n",
      "410 th iteration.\n",
      "Eloc/site =  -1.7577416528276675\n",
      "420 th iteration.\n",
      "Eloc/site =  -1.7882188279719682\n",
      "430 th iteration.\n",
      "Eloc/site =  -1.6935359522729285\n",
      "440 th iteration.\n",
      "Eloc/site =  -1.7669156303047022\n",
      "450 th iteration.\n",
      "Eloc/site =  -1.8405205895162453\n",
      "460 th iteration.\n",
      "Eloc/site =  -1.7163199802117588\n",
      "470 th iteration.\n",
      "Eloc/site =  -1.8612997622457415\n",
      "480 th iteration.\n",
      "Eloc/site =  -1.8767489736112133\n",
      "490 th iteration.\n",
      "Eloc/site =  -1.8305397236196939\n",
      "500 th iteration.\n",
      "Eloc/site =  -2.1805000094324534\n",
      "510 th iteration.\n",
      "Eloc/site =  -2.1948526217151776\n",
      "520 th iteration.\n",
      "Eloc/site =  -1.346605465848505\n",
      "530 th iteration.\n",
      "Eloc/site =  -1.3870062258276783\n",
      "540 th iteration.\n",
      "Eloc/site =  -2.110893145631776\n",
      "550 th iteration.\n",
      "Eloc/site =  -2.0316357139277845\n",
      "560 th iteration.\n",
      "Eloc/site =  -2.0007792328615777\n",
      "570 th iteration.\n",
      "Eloc/site =  -1.7015613537617977\n",
      "580 th iteration.\n",
      "Eloc/site =  -1.836349469905556\n",
      "590 th iteration.\n",
      "Eloc/site =  -1.8720853924930712\n",
      "600 th iteration.\n",
      "Eloc/site =  -1.792202009572757\n",
      "610 th iteration.\n",
      "Eloc/site =  -1.7603944729043046\n",
      "620 th iteration.\n",
      "Eloc/site =  -1.853257411976386\n",
      "630 th iteration.\n",
      "Eloc/site =  -2.012651439206521\n",
      "640 th iteration.\n",
      "Eloc/site =  -1.6765925155167563\n",
      "650 th iteration.\n",
      "Eloc/site =  -2.048051060876657\n",
      "660 th iteration.\n",
      "Eloc/site =  -1.7948002515780583\n",
      "670 th iteration.\n",
      "Eloc/site =  -1.8388560433314098\n",
      "680 th iteration.\n",
      "Eloc/site =  -1.776987490682584\n",
      "690 th iteration.\n",
      "Eloc/site =  -1.8349718219619233\n",
      "700 th iteration.\n",
      "Eloc/site =  -1.7028649400725944\n",
      "710 th iteration.\n",
      "Eloc/site =  -1.769491575617976\n",
      "720 th iteration.\n",
      "Eloc/site =  -1.7615044832175695\n",
      "730 th iteration.\n",
      "Eloc/site =  -1.7673935406389725\n",
      "740 th iteration.\n",
      "Eloc/site =  -1.73511335427905\n",
      "750 th iteration.\n",
      "Eloc/site =  -1.6691753261263371\n",
      "760 th iteration.\n",
      "Eloc/site =  -1.881591319072884\n",
      "770 th iteration.\n",
      "Eloc/site =  -1.7737863027566774\n",
      "780 th iteration.\n",
      "Eloc/site =  -1.6924336012473529\n",
      "790 th iteration.\n",
      "Eloc/site =  -1.7908472711163022\n",
      "800 th iteration.\n",
      "Eloc/site =  -1.8345053024270417\n",
      "810 th iteration.\n",
      "Eloc/site =  -1.904893086078048\n",
      "820 th iteration.\n",
      "Eloc/site =  -1.7978438840361206\n",
      "830 th iteration.\n",
      "Eloc/site =  -1.7953030033239052\n",
      "840 th iteration.\n",
      "Eloc/site =  -1.7206512794472375\n",
      "850 th iteration.\n",
      "Eloc/site =  -1.7475583393762164\n",
      "860 th iteration.\n",
      "Eloc/site =  -1.9313435987846124\n",
      "870 th iteration.\n",
      "Eloc/site =  -1.7165560964804452\n",
      "880 th iteration.\n",
      "Eloc/site =  -1.7755062518982379\n",
      "890 th iteration.\n",
      "Eloc/site =  -1.6938418341274324\n",
      "900 th iteration.\n",
      "Eloc/site =  -1.837277112052743\n",
      "910 th iteration.\n",
      "Eloc/site =  -1.8148942650376774\n",
      "920 th iteration.\n",
      "Eloc/site =  -1.710448227485855\n",
      "930 th iteration.\n",
      "Eloc/site =  -1.6681883083956226\n",
      "940 th iteration.\n",
      "Eloc/site =  -1.874685656809372\n",
      "950 th iteration.\n",
      "Eloc/site =  -1.8208485089278157\n",
      "960 th iteration.\n",
      "Eloc/site =  -1.8501403452508174\n",
      "970 th iteration.\n",
      "Eloc/site =  -1.9305423674513285\n",
      "980 th iteration.\n",
      "Eloc/site =  -2.0483691917683986\n",
      "990 th iteration.\n",
      "Eloc/site =  -1.7861312925056965\n",
      "1000 th iteration.\n",
      "Eloc/site =  -1.625874138688544\n",
      "1010 th iteration.\n",
      "Eloc/site =  -1.8145303903348402\n",
      "1020 th iteration.\n",
      "Eloc/site =  -1.8159407686628384\n",
      "1030 th iteration.\n",
      "Eloc/site =  -1.7962107477029554\n",
      "1040 th iteration.\n",
      "Eloc/site =  -1.7162053329379883\n",
      "1050 th iteration.\n",
      "Eloc/site =  -1.8131024064886545\n",
      "1060 th iteration.\n",
      "Eloc/site =  -1.7585199447269555\n",
      "1070 th iteration.\n",
      "Eloc/site =  -1.7321940172642116\n",
      "1080 th iteration.\n",
      "Eloc/site =  -1.9794487976657897\n",
      "1090 th iteration.\n",
      "Eloc/site =  -1.788969015515951\n",
      "1100 th iteration.\n",
      "Eloc/site =  -1.652084902659673\n",
      "1110 th iteration.\n",
      "Eloc/site =  -1.8131212288186707\n",
      "1120 th iteration.\n",
      "Eloc/site =  -1.9110693128093204\n",
      "1130 th iteration.\n",
      "Eloc/site =  -1.7776822909063026\n",
      "1140 th iteration.\n",
      "Eloc/site =  -1.8043561242300175\n",
      "1150 th iteration.\n",
      "Eloc/site =  -1.7734428461811493\n",
      "1160 th iteration.\n",
      "Eloc/site =  -1.8320838621325066\n",
      "1170 th iteration.\n",
      "Eloc/site =  -1.6874594538438479\n",
      "1180 th iteration.\n",
      "Eloc/site =  -1.964801686809648\n",
      "1190 th iteration.\n",
      "Eloc/site =  -1.694555256069669\n",
      "1200 th iteration.\n",
      "Eloc/site =  -1.693731095647229\n",
      "1210 th iteration.\n",
      "Eloc/site =  -1.7901609521696265\n",
      "1220 th iteration.\n",
      "Eloc/site =  -1.9682007448659884\n",
      "1230 th iteration.\n",
      "Eloc/site =  -1.9740866417336378\n",
      "1240 th iteration.\n",
      "Eloc/site =  -1.7375379861559659\n",
      "1250 th iteration.\n",
      "Eloc/site =  -1.922009846134987\n",
      "1260 th iteration.\n",
      "Eloc/site =  -1.7636134062722573\n",
      "1270 th iteration.\n",
      "Eloc/site =  -1.974334866327703\n",
      "1280 th iteration.\n",
      "Eloc/site =  -1.7402666722293119\n",
      "1290 th iteration.\n",
      "Eloc/site =  -1.7819985995190772\n",
      "1300 th iteration.\n",
      "Eloc/site =  -1.8407505503059114\n",
      "1310 th iteration.\n",
      "Eloc/site =  -1.690159865775317\n",
      "1320 th iteration.\n",
      "Eloc/site =  -2.132918146088257\n",
      "1330 th iteration.\n",
      "Eloc/site =  -1.766800888830738\n",
      "1340 th iteration.\n",
      "Eloc/site =  -1.835762143784261\n",
      "1350 th iteration.\n",
      "Eloc/site =  -1.7263950205051184\n",
      "1360 th iteration.\n",
      "Eloc/site =  -1.7226714979088442\n",
      "1370 th iteration.\n",
      "Eloc/site =  -1.7781052987796706\n",
      "1380 th iteration.\n",
      "Eloc/site =  -2.063334148131147\n",
      "1390 th iteration.\n",
      "Eloc/site =  -1.7587238406555585\n",
      "1400 th iteration.\n",
      "Eloc/site =  -1.7537051639595234\n",
      "1410 th iteration.\n",
      "Eloc/site =  -1.704167994376005\n",
      "1420 th iteration.\n",
      "Eloc/site =  -2.001438261186294\n",
      "1430 th iteration.\n",
      "Eloc/site =  -1.9982451248058173\n",
      "1440 th iteration.\n",
      "Eloc/site =  -2.0324904615345707\n",
      "1450 th iteration.\n",
      "Eloc/site =  -1.8703425712150388\n",
      "1460 th iteration.\n",
      "Eloc/site =  -1.7419913473941862\n",
      "1470 th iteration.\n",
      "Eloc/site =  -1.886473239334459\n",
      "1480 th iteration.\n",
      "Eloc/site =  -1.7197371884716788\n",
      "1490 th iteration.\n",
      "Eloc/site =  -1.7712068052485672\n",
      "\n",
      "The date is 20180213_160001\n",
      "Successfully saved as Result/real_Tsymm_10_4_20180213_160001.yml\n",
      "\n",
      "CPU times: user 11min 51s, sys: 6.7 s, total: 11min 58s\n",
      "Wall time: 11min 59s\n"
     ]
    }
   ],
   "source": [
    "%%time\n",
    "\n",
    "n_iter = 1500\n",
    "\n",
    "EnPerSite = []\n",
    "vmc.lamb = np.max(np.array([Initlamb , lambmin]))\n",
    "vmc.lamb2 = np.max(np.array([Initlamb2 , lamb2min]))\n",
    "for i in range(n_iter):\n",
    "    vmc.lamb = np.max(np.array([Initlamb * decay **i, lambmin]))\n",
    "    vmc.lamb2 = np.max(np.array([Initlamb2 * decay2**i, lamb2min]))\n",
    "    vmc.eta = eta0 * ((n_iter - i)/(n_iter*1.0))**power\n",
    "#    print \"vmc.eta = \",vmc.eta\n",
    "    \n",
    "    vmc.run()\n",
    "    if vmc.elocpersite != vmc.elocpersite:\n",
    "        print \"Divergence in calculation.\"\n",
    "        break\n",
    "    EnPerSite.append(vmc.elocpersite)\n",
    "\n",
    "    if i%10 == 0:\n",
    "        print \"%d th iteration.\"%i\n",
    "        vmc.PrintStats()\n",
    "\n",
    "EnPerSite = np.array(EnPerSite)\n",
    "\n",
    "# save the result with timestamp\n",
    "d = datetime.datetime.today()\n",
    "\n",
    "directory = 'Result/'\n",
    "compflag = int(isinstance(vmc.rbm.a[0],complex)) # if the parameters are complex or not\n",
    "Tsymmflag = int(hasattr(vmc.rbm, 'Wf')) # if the wavefunction is TRS or not\n",
    "\n",
    "# Decide the name of the file according to the RBM type\n",
    "predatename = PredateName(vmc,compflag, Tsymmflag)\n",
    "\n",
    "# save the result\n",
    "save_yaml(vmc, EnPerSite, params, param_contents, directory, predatename, d)"
   ]
  },
  {
   "cell_type": "code",
   "execution_count": 11,
   "metadata": {
    "collapsed": false
   },
   "outputs": [
    {
     "name": "stdout",
     "output_type": "stream",
     "text": [
      "Loading Result/real_Tsymm_10_2_20180213_152231.yml...\n"
     ]
    },
    {
     "data": {
      "image/png": "[encoded data removed]",
      "text/plain": [
       "<matplotlib.figure.Figure at 0x6096d6d10>"
      ]
     },
     "metadata": {},
     "output_type": "display_data"
    },
    {
     "data": {
      "image/png": "[encoded data removed]",
      "text/plain": [
       "<matplotlib.figure.Figure at 0x6096c8450>"
      ]
     },
     "metadata": {},
     "output_type": "display_data"
    }
   ],
   "source": [
    "# load and plot the result\n",
    "yamlname = directory + predatename + d.strftime(\"%Y%m%d_%H%M%S\")\n",
    "#yamlname = \"Result/real_Tsymm_10_2_20180213_152231\"\n",
    "\n",
    "plot_yaml(yamlname)"
   ]
  },
  {
   "cell_type": "code",
   "execution_count": 7,
   "metadata": {
    "collapsed": false
   },
   "outputs": [
    {
     "name": "stdout",
     "output_type": "stream",
     "text": [
      "Calculated EnPerSite:  -1.842343881274325\n",
      "Exact EnPerSite:  -1.806178541796817\n",
      "Error:  0.02002312542232397\n"
     ]
    }
   ],
   "source": [
    "print \"Calculated EnPerSite: \",EnPerSite[-100:].mean()\n",
    "print \"Exact EnPerSite: \",enpersite_exact\n",
    "Error = abs((EnPerSite[-100:].mean()- enpersite_exact)/enpersite_exact)\n",
    "print \"Error: \",Error"
   ]
  },
  {
   "cell_type": "markdown",
   "metadata": {},
   "source": [
    "# Check and compare the wave function"
   ]
  },
  {
   "cell_type": "code",
   "execution_count": 8,
   "metadata": {
    "collapsed": false
   },
   "outputs": [],
   "source": [
    "n_digit = len(vmc.rbm.a)\n",
    "dec_list = np.arange(2**n_digit)\n",
    "AllSpinConfig = BinaryList(dec_list, n_digit)"
   ]
  },
  {
   "cell_type": "code",
   "execution_count": 9,
   "metadata": {
    "collapsed": false
   },
   "outputs": [
    {
     "data": {
      "image/png": "[encoded data removed]",
      "text/plain": [
       "<matplotlib.figure.Figure at 0x6093b63d0>"
      ]
     },
     "metadata": {},
     "output_type": "display_data"
    },
    {
     "name": "stderr",
     "output_type": "stream",
     "text": [
      "/Users/nobu/.pyenv/versions/anaconda2-4.3.1/lib/python2.7/site-packages/numpy/core/numeric.py:544: ComplexWarning: Casting complex values to real discards the imaginary part\n",
      "  return array(a, dtype, copy=False, order=order, subok=True)\n"
     ]
    },
    {
     "data": {
      "image/png": "[encoded data removed]",
      "text/plain": [
       "<matplotlib.figure.Figure at 0x609132ed0>"
      ]
     },
     "metadata": {},
     "output_type": "display_data"
    },
    {
     "name": "stdout",
     "output_type": "stream",
     "text": [
      "The most probable spin config. is  [-1.  1. -1.  1. -1.  1. -1.  1. -1.  1.]\n"
     ]
    }
   ],
   "source": [
    "import matplotlib.pyplot as plt\n",
    "%matplotlib inline\n",
    "\n",
    "W_RBM = vmc.rbm.W\n",
    "a_RBM = vmc.rbm.a\n",
    "b_RBM = vmc.rbm.b\n",
    "\n",
    "# Load the wavefunction\n",
    "wavefunction_unnorm = map(lambda x: GSvec_raw(vmc.rbm, x),AllSpinConfig)\n",
    "wavefunction = Normalize(wavefunction_unnorm)\n",
    "\n",
    "# Plot the real amplitudes\n",
    "#plt.scatter(np.arange(len(AllSpinConfig)),np.real(wavefunction_unnorm))\n",
    "#plt.title(\"Real Part of RBM Wave function\")\n",
    "#plt.xlabel('Label of spin config')\n",
    "#plt.show()\n",
    "\n",
    "# Plot the imaginary amplitudes\n",
    "#plt.scatter(np.arange(len(AllSpinConfig)),np.imag(wavefunction_unnorm))\n",
    "#plt.title(\"Imaginary Part of RBM Wave function\")\n",
    "#plt.xlabel('Label of spin config')\n",
    "#plt.show()\n",
    "\n",
    "# Plot the Density\n",
    "plt.scatter(np.arange(len(AllSpinConfig)),wavefunction)\n",
    "plt.title(\"RBM wave function\")\n",
    "plt.xlabel('Label of spin config')\n",
    "plt.show()\n",
    "\n",
    "# Plot the exact wave function\n",
    "plt.scatter(np.arange(len(AllSpinConfig)), -gsvec_exact)\n",
    "plt.title(\"Exact wavefunction\")\n",
    "plt.xlabel('Label of spin config')\n",
    "plt.show()\n",
    "\n",
    "\n",
    "# return the spin configuration with largest amplitude\n",
    "maxconfig = np.argmax(np.abs(wavefunction))\n",
    "print \"The most probable spin config. is \", AllSpinConfig[maxconfig]"
   ]
  },
  {
   "cell_type": "code",
   "execution_count": 10,
   "metadata": {
    "collapsed": false
   },
   "outputs": [
    {
     "name": "stdout",
     "output_type": "stream",
     "text": [
      "The spin config. of ten largest wave function amplitudes are \n",
      "[-1.  1. -1.  1. -1.  1. -1.  1. -1.  1.]  (Sztot =  0.0 )\n",
      "[ 1. -1.  1. -1.  1. -1.  1. -1.  1. -1.]  (Sztot =  0.0 )\n",
      "[-1.  1.  1. -1. -1.  1. -1.  1. -1.  1.]  (Sztot =  0.0 )\n",
      "[-1.  1.  1. -1.  1. -1.  1. -1.  1. -1.]  (Sztot =  0.0 )\n",
      "[-1. -1.  1. -1.  1. -1.  1. -1.  1.  1.]  (Sztot =  0.0 )\n",
      "[-1.  1. -1.  1. -1.  1.  1. -1. -1.  1.]  (Sztot =  0.0 )\n",
      "[ 1. -1.  1. -1.  1. -1.  1. -1. -1.  1.]  (Sztot =  0.0 )\n",
      "[-1.  1. -1.  1. -1.  1. -1. -1.  1.  1.]  (Sztot =  0.0 )\n",
      "[-1. -1.  1.  1. -1.  1. -1.  1. -1.  1.]  (Sztot =  0.0 )\n",
      "[-1.  1. -1. -1.  1.  1. -1.  1. -1.  1.]  (Sztot =  0.0 )\n",
      "[ 1. -1.  1. -1. -1.  1.  1. -1.  1. -1.]  (Sztot =  0.0 )\n",
      "[-1.  1. -1.  1. -1. -1.  1.  1. -1.  1.]  (Sztot =  0.0 )\n",
      "[ 1. -1.  1. -1.  1.  1. -1. -1.  1. -1.]  (Sztot =  0.0 )\n",
      "[-1.  1. -1.  1.  1. -1. -1.  1. -1.  1.]  (Sztot =  0.0 )\n",
      "[ 1. -1.  1.  1. -1. -1.  1. -1.  1. -1.]  (Sztot =  0.0 )\n",
      "[ 1.  1. -1. -1.  1. -1.  1. -1.  1. -1.]  (Sztot =  0.0 )\n",
      "[ 1. -1.  1. -1.  1. -1.  1.  1. -1. -1.]  (Sztot =  0.0 )\n",
      "[-1.  1. -1.  1. -1.  1. -1.  1.  1. -1.]  (Sztot =  0.0 )\n",
      "[ 1. -1.  1. -1.  1. -1. -1.  1.  1. -1.]  (Sztot =  0.0 )\n",
      "[ 1.  1. -1.  1. -1.  1. -1.  1. -1. -1.]  (Sztot =  0.0 )\n"
     ]
    }
   ],
   "source": [
    "# In order of GSvec amplitude\n",
    "c = zip(wavefunction, np.arange(len(AllSpinConfig)))\n",
    "c.sort(reverse = True)\n",
    "wavefunction_sorted, sorted_order = zip(*c)\n",
    "\n",
    "# Spin config with top ten amplitudes\n",
    "print \"The spin config. of ten largest wave function amplitudes are \"\n",
    "for j in range(20):\n",
    "    fig = AllSpinConfig[sorted_order[j]]\n",
    "    print fig, \" (Sztot = \",fig.sum(), \")\""
   ]
  },
  {
   "cell_type": "code",
   "execution_count": null,
   "metadata": {
    "collapsed": true
   },
   "outputs": [],
   "source": []
  }
 ],
 "metadata": {
  "kernelspec": {
   "display_name": "Python 2",
   "language": "python",
   "name": "python2"
  },
  "language_info": {
   "codemirror_mode": {
    "name": "ipython",
    "version": 2
   },
   "file_extension": ".py",
   "mimetype": "text/x-python",
   "name": "python",
   "nbconvert_exporter": "python",
   "pygments_lexer": "ipython2",
   "version": "2.7.13"
  }
 },
 "nbformat": 4,
 "nbformat_minor": 2
}
