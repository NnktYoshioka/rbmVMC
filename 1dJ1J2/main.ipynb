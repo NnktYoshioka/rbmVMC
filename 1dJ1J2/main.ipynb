{
 "cells": [
  {
   "cell_type": "markdown",
   "metadata": {},
   "source": [
    "# GS wavefunction and energy of 1dJ1J2\n",
    "Solving under PBC, assuming TRS complex wavefunction.\n",
    "Solution for J1=0 case is shown for demonstration and comparison with 1d AFH.\n",
    "\n",
    "Codes by Nobuyuki Yoshioka, Feb 2018."
   ]
  },
  {
   "cell_type": "markdown",
   "metadata": {},
   "source": [
    "## Load the modules"
   ]
  },
  {
   "cell_type": "code",
   "execution_count": 1,
   "metadata": {
    "collapsed": false
   },
   "outputs": [],
   "source": [
    "from RBM_1dJ1J2 import * # RBM class\n",
    "from MetropolisSamplingTools import * # Markov chain generator class\n",
    "from VMC_1dJ1J2 import * # VMC scheme class"
   ]
  },
  {
   "cell_type": "markdown",
   "metadata": {},
   "source": [
    "## Parameters"
   ]
  },
  {
   "cell_type": "code",
   "execution_count": 2,
   "metadata": {
    "collapsed": false
   },
   "outputs": [
    {
     "name": "stdout",
     "output_type": "stream",
     "text": [
      "Lamb2 switch at iter = 918\n"
     ]
    }
   ],
   "source": [
    "# System and hidden layer size\n",
    "n_vis = 8 # system size\n",
    "alpha = 4 # ratio of #hidden to #visible\n",
    "n_batch = 400 # (#sample) for Gibbs sampling\n",
    "\n",
    "# Parameters of Hamiltonian\n",
    "J1 = 0 # NN AF Heisenberg\n",
    "J2 = 1 # NNN AF Heisenberg\n",
    "Delta = 1 # XXZ Anisotropy\n",
    "\n",
    "\n",
    "# Learning hyperparameters\n",
    "eta0 = 1e-1 # learning rate\n",
    "power = 2.5\n",
    "sigma = 0.01 # amplitude of random init. param\n",
    "l2reg = 0. # L2 regularization\n",
    "\n",
    "# Learning schedule\n",
    "Initlamb = 100 \n",
    "decay = 0.995\n",
    "lambmin = 1e-2\n",
    "\n",
    "Initlamb2 = 1e-2\n",
    "decay2 = 0.995\n",
    "#decay2 = 1\n",
    "lamb2min = 1e-4\n",
    "print \"Lamb2 switch at iter = %d\"%(np.log(lamb2min/Initlamb2)/np.log(decay2))\n",
    "\n",
    "# Other optimization technique\n",
    "momentum = 0.\n",
    "dropout_p  = 0.\n",
    "threshold = 0.3 # threshold for S-matrix."
   ]
  },
  {
   "cell_type": "markdown",
   "metadata": {},
   "source": [
    "## Loading analytical expression of wave function"
   ]
  },
  {
   "cell_type": "code",
   "execution_count": 3,
   "metadata": {
    "collapsed": false
   },
   "outputs": [],
   "source": [
    "# Here, we use the Gauge-transformed Hamiltonian\n",
    "# so that wave function is positive semi definite,\n",
    "# allowing the alternate sampling from RBM.\n",
    "from plottools_1dJ1J2 import *\n",
    "from ComplexWFtools import *\n",
    "from ExactWaveFunc_1dJ1J2 import GSvecs\n",
    "from ExactWaveFunc_1dJ1J2 import EnPerSite_exact\n",
    "\n",
    "# Prepare the basis of the vector.\n",
    "# { |All up>, |uu...ud>, |uu...du>, ..., |All down>}\n",
    "\n",
    "#Define when it is undefined\n",
    "if n_vis <=10:\n",
    "    if not any(map(lambda x:x == 'deggsvec_exact', locals())):\n",
    "        deggsvec_exact = GSvecs(leng = n_vis, PBCflag = 1, J1 = J1, J2 = J2)\n",
    "    # Define again when n_vis is changed\n",
    "    if any(map(lambda x:x == 'vmc', locals())):\n",
    "        if int(np.log2(len(deggsvec_exact))) != n_vis or (J1, J2) != (vmc.J1, vmc.J2):\n",
    "            deggsvec_exact = GSvecs(leng = n_vis, PBCflag = 1, J1 = J1, J2 = J2)\n",
    "            \n",
    "else:\n",
    "    gsvec_exact = [None]\n",
    "\n",
    "if not any(map(lambda x:x == 'enpersite_exact', locals())):\n",
    "    if n_vis <= 10:\n",
    "        enpersite_exact = EnPerSite_exact(n_vis, PBCflag = 1, J1 = J1, J2 = J2)/(n_vis*1.0)\n",
    "    else:\n",
    "        enpersite_exact = -1.5\n",
    "if int(np.log2(len(deggsvec_exact))) != n_vis:\n",
    "    if n_vis <= 10:\n",
    "        enpersite_exact = EnPerSite_exact(n_vis, PBCflag = 1, J1 = J1, J2 = J2)/(n_vis*1.0)\n",
    "    else:\n",
    "        enpersite_exact = -1.5\n"
   ]
  },
  {
   "cell_type": "code",
   "execution_count": 4,
   "metadata": {
    "collapsed": false
   },
   "outputs": [],
   "source": [
    "# Fixing the random seed\n",
    "seeds = np.array([ 10, 100, 1000, 1234, 12345])\n",
    "n_seed = len(seeds)\n",
    "seed = seeds[4]\n",
    "\n",
    "np.random.seed(seed)\n",
    "params = np.array([n_vis, alpha,n_batch, J1, J2,  Delta, eta0, power,  sigma, l2reg, Initlamb, decay, lambmin, Initlamb2, decay2, lamb2min,\n",
    "                      momentum, dropout_p, threshold, seed])\n",
    "param_contents = ['n_vis', 'alpha' , 'n_batch', 'J1', 'J2',  'Delta', 'eta0','power', 'sigma', 'l2reg', 'Initlamb', 'decay', 'lambmin', 'Initlamb2', 'decay2', 'lamb2min',\n",
    "                      'momentum', 'dropout_p', 'threshold', 'seed']\n",
    "\n",
    "vmc = VMC(n_vis = n_vis, alpha = alpha, eta = eta0,  J1 = J1, J2 = J2, sigma = sigma, n_batch = n_batch, deggsvec_exact= deggsvec_exact, threshold = threshold)\n",
    "\n",
    "vmc.SetRBM()"
   ]
  },
  {
   "cell_type": "markdown",
   "metadata": {},
   "source": [
    "# Optimizing GS energy by VMC"
   ]
  },
  {
   "cell_type": "code",
   "execution_count": 43,
   "metadata": {
    "collapsed": false,
    "scrolled": true
   },
   "outputs": [
    {
     "name": "stdout",
     "output_type": "stream",
     "text": [
      "0 th iteration.\n",
      "Eloc/site =  (0.9991352150633909-0.0008055247803932836j)\n",
      "overlap =  [2.6885439773306515e-06, 1.242853349118339e-05]\n",
      "10 th iteration.\n",
      "Eloc/site =  (0.9987253620173858+0.00025923785671418397j)\n",
      "overlap =  [7.360310409197541e-06, 2.68674609387419e-05]\n",
      "20 th iteration.\n",
      "Eloc/site =  (0.9996806216811409+0.001821085965028233j)\n",
      "overlap =  [5.220029529814986e-05, 9.048675484179188e-05]\n",
      "30 th iteration.\n",
      "Eloc/site =  (0.9999520012825097+0.010059635299122252j)\n",
      "overlap =  [0.0011805334828215172, 0.0004909595682383025]\n",
      "40 th iteration.\n",
      "Eloc/site =  (0.8991789760026427-0.03250448305456767j)\n",
      "overlap =  [0.05068396577539615, 0.0034462763322459424]\n",
      "50 th iteration.\n",
      "Eloc/site =  (-0.4990529637644399-0.02800186688668628j)\n",
      "overlap =  [0.5496653777787996, 0.00977316212042522]\n",
      "60 th iteration.\n",
      "Eloc/site =  (-1.0062455285337193-0.05024835065221279j)\n",
      "overlap =  [0.6898346771649382, 0.006457001257614313]\n",
      "70 th iteration.\n",
      "Eloc/site =  (-1.068911850772725-0.0008378401597784313j)\n",
      "overlap =  [0.7020399196117043, 0.005205807449131713]\n",
      "80 th iteration.\n",
      "Eloc/site =  (-1.0943006672505562-0.0696650403859761j)\n",
      "overlap =  [0.7045999285797466, 0.006948107176776051]\n",
      "90 th iteration.\n",
      "Eloc/site =  (-1.1094628000198499-0.009414959497758574j)\n",
      "overlap =  [0.7096848013181881, 0.006700568028419301]\n",
      "100 th iteration.\n",
      "Eloc/site =  (-1.0931710577449594-0.007385355126660853j)\n",
      "overlap =  [0.7174511417742699, 0.007042455761659327]\n",
      "110 th iteration.\n",
      "Eloc/site =  (-1.1637297723602147-0.04009815738429007j)\n",
      "overlap =  [0.7323254914716182, 0.008767790677446796]\n",
      "120 th iteration.\n",
      "Eloc/site =  (-1.257351637670768+0.012103060173304966j)\n",
      "overlap =  [0.7577198802542354, 0.00951962317326578]\n",
      "130 th iteration.\n",
      "Eloc/site =  (-1.230132553778021-0.009354896347202173j)\n",
      "overlap =  [0.7802983281780869, 0.010758308618529416]\n",
      "140 th iteration.\n",
      "Eloc/site =  (-1.3601857391964984-0.027989156383025692j)\n",
      "overlap =  [0.8040596254582634, 0.008293486899137524]\n",
      "150 th iteration.\n",
      "Eloc/site =  (-1.5037723889662766+0.03782926425548609j)\n",
      "overlap =  [0.8352478505142237, 0.009017516931743545]\n",
      "160 th iteration.\n",
      "Eloc/site =  (-1.5590552261060462+0.028213901334123916j)\n",
      "overlap =  [0.8638342843065232, 0.008349324532609668]\n",
      "170 th iteration.\n",
      "Eloc/site =  (-1.6655677177484802+0.04083941100263065j)\n",
      "overlap =  [0.8866344386337681, 0.00731239131705658]\n",
      "180 th iteration.\n",
      "Eloc/site =  (-1.8316013938699556+0.042952439681007065j)\n",
      "overlap =  [0.9061262583405612, 0.0063381429356261865]\n",
      "190 th iteration.\n",
      "Eloc/site =  (-1.6256621260680917-0.036405192682431135j)\n",
      "overlap =  [0.9235805133764718, 0.006314581609677162]\n",
      "200 th iteration.\n",
      "Eloc/site =  (-1.8653280910133487+0.02237638577713834j)\n",
      "overlap =  [0.9341623634158044, 0.006865827552664759]\n",
      "210 th iteration.\n",
      "Eloc/site =  (-1.7948753261929487+0.07477225449742678j)\n",
      "overlap =  [0.9441580134631002, 0.006116172937899942]\n",
      "220 th iteration.\n",
      "Eloc/site =  (-1.7891098511634744-0.0018893078959992305j)\n",
      "overlap =  [0.9544509209570289, 0.004900833903428169]\n",
      "230 th iteration.\n",
      "Eloc/site =  (-2.0439733318520967+0.09639776516715222j)\n",
      "overlap =  [0.9631740156753791, 0.003326468317249759]\n",
      "240 th iteration.\n",
      "Eloc/site =  (-2.020420282188174+0.0703836558928307j)\n",
      "overlap =  [0.9679899802554173, 0.002352710502828491]\n",
      "250 th iteration.\n",
      "Eloc/site =  (-2.1025294836375212+0.09727429905931001j)\n",
      "overlap =  [0.9704695914644625, 0.001802802130538172]\n",
      "260 th iteration.\n",
      "Eloc/site =  (-2.087168765439306+0.08739559639577507j)\n",
      "overlap =  [0.9784034579396576, 0.0013242150662575057]\n",
      "270 th iteration.\n",
      "Eloc/site =  (-2.08606428277003+0.09804647176903561j)\n",
      "overlap =  [0.9815581981467905, 0.0013007912286164616]\n",
      "280 th iteration.\n",
      "Eloc/site =  (-2.0317049197759642+0.07197582513003954j)\n",
      "overlap =  [0.9856329460836099, 0.000987305163406068]\n",
      "290 th iteration.\n",
      "Eloc/site =  (-1.6804096660011687+0.07254599655434285j)\n",
      "overlap =  [0.9806277543675433, 0.0010353072759384588]\n",
      "300 th iteration.\n",
      "Eloc/site =  (-2.3313639824128716+0.3120353796842204j)\n",
      "overlap =  [0.9778764545945846, 0.0010342161856132775]\n",
      "310 th iteration.\n",
      "Eloc/site =  (-1.9150700567382568+0.3054189867485336j)\n",
      "overlap =  [0.969223935777476, 0.0007527459116387261]\n",
      "320 th iteration.\n",
      "Eloc/site =  (-1.4085117215743577+0.477437904962349j)\n",
      "overlap =  [0.9434938741308001, 0.0006268268034856121]\n",
      "330 th iteration.\n",
      "Eloc/site =  (-1.3019869096029826+0.4857474352991675j)\n",
      "overlap =  [0.9361082667943398, 0.000554789507187357]\n",
      "340 th iteration.\n",
      "Eloc/site =  (-0.8909020533834097+0.49286507830862436j)\n",
      "overlap =  [0.8643165866701266, 0.0005120435965523794]\n",
      "350 th iteration.\n",
      "Eloc/site =  (-2.060517567658584-0.10425207862027736j)\n",
      "overlap =  [0.9047690535334003, 0.00041917943138564497]\n",
      "360 th iteration.\n",
      "Eloc/site =  (-1.9479360168169997-0.4512001345947805j)\n",
      "overlap =  [0.9380077241034821, 0.00038727196019464175]\n",
      "370 th iteration.\n",
      "Eloc/site =  (-1.1254971324891436+0.3700857881741215j)\n",
      "overlap =  [0.9276069565067544, 0.0003828030915360355]\n",
      "380 th iteration.\n",
      "Eloc/site =  (-2.228237825617883-0.5488171277552365j)\n",
      "overlap =  [0.9142177542768262, 0.0003432573041785748]\n",
      "390 th iteration.\n",
      "Eloc/site =  (-1.0588388497941104+0.36994924276538044j)\n",
      "overlap =  [0.9079256054912466, 0.000325578283570505]\n",
      "400 th iteration.\n",
      "Eloc/site =  (-1.031222222849902+0.4292757365933663j)\n",
      "overlap =  [0.9014052279041638, 0.0003057897644275066]\n",
      "410 th iteration.\n",
      "Eloc/site =  (-0.9159053682129331+0.4207574673178j)\n",
      "overlap =  [0.8672751722270631, 0.00026289650235879425]\n",
      "420 th iteration.\n",
      "Eloc/site =  (-2.0773921710351617-0.12903792772560546j)\n",
      "overlap =  [0.8641717666036236, 0.00023458540478485005]\n",
      "430 th iteration.\n",
      "Eloc/site =  (-0.8676326523254995+0.458440445342104j)\n",
      "overlap =  [0.8600943650334564, 0.00021477703401361048]\n",
      "440 th iteration.\n",
      "Eloc/site =  (-2.2790090526396067-0.788988569287165j)\n",
      "overlap =  [0.8680061857789644, 0.0002022214417600511]\n",
      "450 th iteration.\n",
      "Eloc/site =  (-1.980144925003545-0.14787730075374905j)\n",
      "overlap =  [0.8648786018058529, 0.00020676325405937307]\n",
      "460 th iteration.\n",
      "Eloc/site =  (-0.9143681008020597+0.48911276899391665j)\n",
      "overlap =  [0.8634574141712936, 0.0001935928151213464]\n",
      "470 th iteration.\n",
      "Eloc/site =  (-0.8690790501409137+0.5080919325409023j)\n",
      "overlap =  [0.8542857054327274, 0.00018387305925707628]\n",
      "480 th iteration.\n",
      "Eloc/site =  (-1.9431382981601788-0.18830803133442905j)\n",
      "overlap =  [0.8533210275811295, 0.00018478416596685014]\n",
      "490 th iteration.\n",
      "Eloc/site =  (-2.0142237837961803-0.16002953789829152j)\n",
      "overlap =  [0.8497835526396924, 0.00018289349370566988]\n",
      "500 th iteration.\n",
      "Eloc/site =  (-1.8655928317532864-0.10091572413639434j)\n",
      "overlap =  [0.8487720980538418, 0.00018035333143012882]\n",
      "510 th iteration.\n",
      "Eloc/site =  (-2.1425754887678035-0.7548027731449392j)\n",
      "overlap =  [0.8461318932108721, 0.0001746974983053847]\n",
      "520 th iteration.\n",
      "Eloc/site =  (-1.9544834164856866-0.20352804998298119j)\n",
      "overlap =  [0.8447295030047505, 0.00017066380242196586]\n",
      "530 th iteration.\n",
      "Eloc/site =  (-1.9512914600693592-0.20348788150225264j)\n",
      "overlap =  [0.8441047865162942, 0.00017138361539030287]\n",
      "540 th iteration.\n",
      "Eloc/site =  (1+0j)\n",
      "overlap =  [0.8439663835444315, 0.00017007335117751512]\n",
      "550 th iteration.\n",
      "Eloc/site =  (-0.8417119956787414+0.5139340443884823j)\n",
      "overlap =  [0.8439999434536238, 0.00016899480921093825]\n",
      "560 th iteration.\n",
      "Eloc/site =  (-1.8037546224846848-0.11972508162210752j)\n",
      "overlap =  [0.8442432509971772, 0.00016942675090170884]\n",
      "570 th iteration.\n",
      "Eloc/site =  (-0.8835887752522595+0.5524514947454098j)\n",
      "overlap =  [0.844206756278373, 0.00016920083517776282]\n",
      "580 th iteration.\n",
      "Eloc/site =  (-1.9453066183008298-0.1732674994808845j)\n",
      "overlap =  [0.8440814654834321, 0.000169283603499349]\n",
      "590 th iteration.\n",
      "Eloc/site =  (-0.8371642264307602+0.523772162417149j)\n",
      "overlap =  [0.8440882649913164, 0.0001692780542283333]\n",
      "\n",
      "The date is 20180213_185406\n",
      "Successfully saved as Result/1dJ1J2_complex_Tsymm_8_4_20180213_185406.yml\n",
      "\n",
      "CPU times: user 3min 32s, sys: 2.31 s, total: 3min 35s\n",
      "Wall time: 3min 35s\n"
     ]
    }
   ],
   "source": [
    "%%time\n",
    "\n",
    "import copy \n",
    "n_iter = 600\n",
    "\n",
    "EnPerSite = []\n",
    "Acceptance_chain = []\n",
    "vmc.lamb = np.max(np.array([Initlamb , lambmin]))\n",
    "vmc.lamb2 = np.max(np.array([Initlamb2 , lamb2min]))\n",
    "for i in range(n_iter):\n",
    "    vmc.lamb = np.max([Initlamb * decay **i, lambmin])\n",
    "    vmc.lamb2 = np.max([Initlamb2 * decay2**i, lamb2min])\n",
    "    vmc.eta = eta0 * ((n_iter - i)/(n_iter*1.0))**power\n",
    "    \n",
    "    vmc.run()\n",
    "    if vmc.elocpersite != vmc.elocpersite:\n",
    "        print \"Divergence in calculation.\"\n",
    "        break\n",
    "    EnPerSite.append(vmc.elocpersite)\n",
    "    acceptance_mean = np.array(vmc.acceptances).mean()\n",
    "    Acceptance_chain.append(acceptance_mean)\n",
    "\n",
    "    if i%10 == 0:\n",
    "        print \"%d th iteration.\"%i\n",
    "        vmc.PrintStats()\n",
    "        print \"overlap = \", vmc.overlaps[-1]\n",
    "\n",
    "EnPerSite = np.array(EnPerSite)\n",
    "\n",
    "# save the result with timestamp\n",
    "d = datetime.datetime.today()\n",
    "\n",
    "directory = 'Result/'\n",
    "compflag = int(isinstance(vmc.rbm.a[0],complex)) # if the parameters are complex or not\n",
    "Tsymmflag = int(hasattr(vmc.rbm, 'Wf')) # if the wavefunction is TRS or not\n",
    "\n",
    "# Decide the name of the file according to the RBM type\n",
    "predatename = PredateName(vmc,compflag, Tsymmflag)\n",
    "\n",
    "# save the result\n",
    "save_yaml(vmc, EnPerSite, params, param_contents, directory, predatename, d)"
   ]
  },
  {
   "cell_type": "code",
   "execution_count": 6,
   "metadata": {
    "collapsed": false
   },
   "outputs": [
    {
     "name": "stdout",
     "output_type": "stream",
     "text": [
      "Loading Result/1dJ1J2_complex_Tsymm_8_4_20171209_181541.yml...\n"
     ]
    },
    {
     "data": {
      "image/png": "[encoded data removed]",
      "text/plain": [
       "<matplotlib.figure.Figure at 0x10e70f290>"
      ]
     },
     "metadata": {},
     "output_type": "display_data"
    },
    {
     "data": {
      "image/png": "[encoded data removed]",
      "text/plain": [
       "<matplotlib.figure.Figure at 0x10f0c6a90>"
      ]
     },
     "metadata": {},
     "output_type": "display_data"
    }
   ],
   "source": [
    "# load and plot the result\n",
    "#yamlname = directory + predatename + d.strftime(\"%Y%m%d_%H%M%S\")\n",
    "yamlname = \"Result/1dJ1J2_complex_Tsymm_8_4_20171209_181541\"\n",
    "\n",
    "plot_yaml(yamlname)"
   ]
  }
 ],
 "metadata": {
  "kernelspec": {
   "display_name": "Python 2",
   "language": "python",
   "name": "python2"
  },
  "language_info": {
   "codemirror_mode": {
    "name": "ipython",
    "version": 2
   },
   "file_extension": ".py",
   "mimetype": "text/x-python",
   "name": "python",
   "nbconvert_exporter": "python",
   "pygments_lexer": "ipython2",
   "version": "2.7.13"
  }
 },
 "nbformat": 4,
 "nbformat_minor": 2
}
